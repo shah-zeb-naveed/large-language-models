{
  "cells": [
    {
      "cell_type": "markdown",
      "metadata": {
        "id": "view-in-github",
        "colab_type": "text"
      },
      "source": [
        "<a href=\"https://colab.research.google.com/github/shah-zeb-naveed/large-language-models/blob/main/multi_agent/multi_agent_python_verifier.ipynb\" target=\"_parent\"><img src=\"https://colab.research.google.com/assets/colab-badge.svg\" alt=\"Open In Colab\"/></a>"
      ]
    },
    {
      "cell_type": "markdown",
      "metadata": {
        "id": "om30hALxVYVc"
      },
      "source": [
        "# Task Solving with Code Generation, Execution and Debugging\n",
        "\n",
        "AutoGen offers conversable LLM agents, which can be used to solve various tasks with human or automatic feedback, including tasks that require using tools via code.\n",
        "Please find documentation about this feature [here](https://microsoft.github.io/autogen/docs/Use-Cases/agent_chat).\n",
        "\n",
        "In this notebook, we demonstrate how to use `AssistantAgent` and `UserProxyAgent` to write code and execute the code. Here `AssistantAgent` is an LLM-based agent that can write Python code (in a Python coding block) for a user to execute for a given task. `UserProxyAgent` is an agent which serves as a proxy for the human user to execute the code written by `AssistantAgent`, or automatically execute the code. Depending on the setting of `human_input_mode` and `max_consecutive_auto_reply`, the `UserProxyAgent` either solicits feedback from the human user or returns auto-feedback based on the result of code execution (success or failure and corresponding outputs) to `AssistantAgent`. `AssistantAgent` will debug the code and suggest new code if the result contains error. The two agents keep communicating to each other until the task is done."
      ]
    },
    {
      "cell_type": "code",
      "source": [
        "!pip install ag2 -q --progress-bar off"
      ],
      "metadata": {
        "id": "6AFp9WKzWb_t"
      },
      "execution_count": 1,
      "outputs": []
    },
    {
      "cell_type": "code",
      "execution_count": 2,
      "metadata": {
        "id": "KovbHlT0VYVg"
      },
      "outputs": [],
      "source": [
        "import os\n",
        "import csv\n",
        "import autogen\n",
        "from google.colab import userdata\n",
        "from autogen import Cache\n",
        "userdata.get('OPENAI_API_KEY')\n",
        "\n",
        "llm_config = {\n",
        "    \"config_list\": [{\"model\": \"gpt-3.5-turbo\", \"api_key\": userdata.get('OPENAI_API_KEY')}],\n",
        "    \"cache_seed\": 0,  # seed for reproducibility\n",
        "    \"temperature\": 0,  # temperature to control randomness\n",
        "}"
      ]
    },
    {
      "cell_type": "markdown",
      "source": [
        "# LeetCode Solver"
      ],
      "metadata": {
        "id": "SVk9eXevzrdS"
      }
    },
    {
      "cell_type": "code",
      "source": [
        "LEETCODE_QUESTION = \"\"\"\n",
        "Title: Two Sum\n",
        "\n",
        "Given an array of integers nums and an integer target, return indices of the two numbers such that they add up to target. You may assume that each input would have exactly one solution, and you may not use the same element twice. You can return the answer in any order.\n",
        "\n",
        "Example 1:\n",
        "Input: nums = [2,7,11,15], target = 9\n",
        "Output: [0,1]\n",
        "Explanation: Because nums[0] + nums[1] == 9, we return [0, 1].\n",
        "\n",
        "Example 2:\n",
        "Input: nums = [3,2,4], target = 6\n",
        "Output: [1,2]\n",
        "\n",
        "Example 3:\n",
        "Input: nums = [3,3], target = 6\n",
        "Output: [0,1]\n",
        "\n",
        "Constraints:\n",
        "\n",
        "2 <= nums.length <= 104\n",
        "-109 <= nums[i] <= 109\n",
        "-109 <= target <= 109\n",
        "Only one valid answer exists.\n",
        "\n",
        "Follow-up: Can you come up with an algorithm that is less than O(n2) time complexity?\n",
        "\"\"\""
      ],
      "metadata": {
        "id": "VvT57g6tzrSa"
      },
      "execution_count": 3,
      "outputs": []
    },
    {
      "cell_type": "code",
      "source": [
        "# create an AssistantAgent named \"assistant\"\n",
        "\n",
        "SYSTEM_MESSAGE = \"\"\"You are a helpful AI assistant.\n",
        "Solve tasks using your coding and language skills.\n",
        "In the following cases, suggest python code (in a python coding block) or shell script (in a sh coding block) for the user to execute.\n",
        "1. When you need to collect info, use the code to output the info you need, for example, browse or search the web, download/read a file, print the content of a webpage or a file, get the current date/time, check the operating system. After sufficient info is printed and the task is ready to be solved based on your language skill, you can solve the task by yourself.\n",
        "2. When you need to perform some task with code, use the code to perform the task and output the result. Finish the task smartly.\n",
        "Solve the task step by step if you need to. If a plan is not provided, explain your plan first. Be clear which step uses code, and which step uses your language skill.\n",
        "When using code, you must indicate the script type in the code block. The user cannot provide any other feedback or perform any other action beyond executing the code you suggest. The user can't modify your code. So do not suggest incomplete code which requires users to modify. Don't use a code block if it's not intended to be executed by the user.\n",
        "If you want the user to save the code in a file before executing it, put # filename: <filename> inside the code block as the first line. Don't include multiple code blocks in one response. Do not ask users to copy and paste the result. Instead, use 'print' function for the output when relevant. Check the execution result returned by the user.\n",
        "If the result indicates there is an error, fix the error and output the code again. Suggest the full code instead of partial code or code changes. If the error can't be fixed or if the task is not solved even after the code is executed successfully, analyze the problem, revisit your assumption, collect additional info you need, and think of a different approach to try.\n",
        "When you find an answer, verify the answer carefully.\n",
        "\n",
        "Requirements:\n",
        "1. Within the code, add functionality to measure the total run-time of the algorithm in python function using \"time\" library.\n",
        "2. I'll run the code and tell you if the Python script ran successfully and the total run-time. If it runs successfully and run-time is less than 50 ms, then reply by saying the word \"TERMINATE\". Otherwise, suggest a more optimal solution if it exists.\n",
        "\"\"\"\n",
        "\n",
        "assistant = autogen.AssistantAgent(\n",
        "    name=\"assistant\",\n",
        "    llm_config=llm_config,\n",
        "    system_message=SYSTEM_MESSAGE\n",
        ")\n",
        "\n",
        "# create a UserProxyAgent instance named \"user_proxy\"\n",
        "user_proxy = autogen.UserProxyAgent(\n",
        "    name=\"user_proxy\",\n",
        "    human_input_mode=\"NEVER\",\n",
        "    max_consecutive_auto_reply=4,\n",
        "    is_termination_msg=lambda x: x.get(\"content\", \"\").rstrip().endswith(\"TERMINATE\"),\n",
        "    code_execution_config={\n",
        "        \"work_dir\": \"coding\",\n",
        "        \"use_docker\": False,  # Please set use_docker=True if docker is available to run the generated code. Using docker is safer than running the generated code directly.\n",
        "    },\n",
        ")"
      ],
      "metadata": {
        "id": "0lLfqG1XztvD"
      },
      "execution_count": 16,
      "outputs": []
    },
    {
      "cell_type": "code",
      "source": [
        "# Use DiskCache as cache\n",
        "with Cache.disk(cache_seed=7) as cache:\n",
        "  # the assistant receives a message from the user_proxy, which contains the task description\n",
        "  chat_res = user_proxy.initiate_chat(\n",
        "      assistant,\n",
        "      message=\"\"\"Solve the following leetcode problem and also comment on it's time and space complexity:\\n\\n\"\"\" + LEETCODE_QUESTION\n",
        ")"
      ],
      "metadata": {
        "colab": {
          "base_uri": "https://localhost:8080/"
        },
        "id": "-sHa5eJQ_PcQ",
        "outputId": "cee8a3d8-058b-4e5d-e81a-90e345ed8e3a"
      },
      "execution_count": 20,
      "outputs": [
        {
          "output_type": "stream",
          "name": "stdout",
          "text": [
            "user_proxy (to assistant):\n",
            "\n",
            "Solve the following leetcode problem and also comment on it's time and space complexity:\n",
            "\n",
            "\n",
            "Title: Two Sum\n",
            "\n",
            "Given an array of integers nums and an integer target, return indices of the two numbers such that they add up to target. You may assume that each input would have exactly one solution, and you may not use the same element twice. You can return the answer in any order.\n",
            "\n",
            "Example 1:\n",
            "Input: nums = [2,7,11,15], target = 9\n",
            "Output: [0,1]\n",
            "Explanation: Because nums[0] + nums[1] == 9, we return [0, 1].\n",
            "\n",
            "Example 2:\n",
            "Input: nums = [3,2,4], target = 6\n",
            "Output: [1,2]\n",
            "\n",
            "Example 3:\n",
            "Input: nums = [3,3], target = 6\n",
            "Output: [0,1]\n",
            "\n",
            "Constraints:\n",
            "\n",
            "2 <= nums.length <= 104\n",
            "-109 <= nums[i] <= 109\n",
            "-109 <= target <= 109\n",
            "Only one valid answer exists.\n",
            "\n",
            "Follow-up: Can you come up with an algorithm that is less than O(n2) time complexity?\n",
            "\n",
            "\n",
            "--------------------------------------------------------------------------------\n",
            "assistant (to user_proxy):\n",
            "\n",
            "To solve this problem efficiently, we can use a dictionary to store the elements we have seen so far along with their indices. While iterating through the array, we can check if the complement of the current element (target - current element) is already in the dictionary. If it is, we have found the pair that sums up to the target.\n",
            "\n",
            "Here's the Python code to solve the Two Sum problem with a time complexity less than O(n^2):\n",
            "\n",
            "```python\n",
            "# filename: two_sum.py\n",
            "def two_sum(nums, target):\n",
            "    num_dict = {}\n",
            "    for i, num in enumerate(nums):\n",
            "        complement = target - num\n",
            "        if complement in num_dict:\n",
            "            return [num_dict[complement], i]\n",
            "        num_dict[num] = i\n",
            "\n",
            "# Test the function with the given examples\n",
            "nums1 = [2, 7, 11, 15]\n",
            "target1 = 9\n",
            "print(two_sum(nums1, target1))  # Output: [0, 1]\n",
            "\n",
            "nums2 = [3, 2, 4]\n",
            "target2 = 6\n",
            "print(two_sum(nums2, target2))  # Output: [1, 2]\n",
            "\n",
            "nums3 = [3, 3]\n",
            "target3 = 6\n",
            "print(two_sum(nums3, target3))  # Output: [0, 1]\n",
            "```\n",
            "\n",
            "The time complexity of this solution is O(n) because we iterate through the list of numbers only once. The space complexity is also O(n) because we store elements in a dictionary.\n",
            "\n",
            "You can run this code and check if it provides the correct output. Let me know the total run-time, and if it's less than 50 ms, you can reply with \"TERMINATE\". If it's not, I can suggest a more optimal solution.\n",
            "\n",
            "--------------------------------------------------------------------------------\n",
            "\n",
            ">>>>>>>> EXECUTING CODE BLOCK 0 (inferred language is python)...\n",
            "user_proxy (to assistant):\n",
            "\n",
            "exitcode: 0 (execution succeeded)\n",
            "Code output: \n",
            "[0, 1]\n",
            "[1, 2]\n",
            "[0, 1]\n",
            "\n",
            "\n",
            "--------------------------------------------------------------------------------\n",
            "assistant (to user_proxy):\n",
            "\n",
            "The Python script ran successfully and provided the correct output for the given examples. Since the total run-time is not provided, I will suggest measuring the total run-time of the algorithm using the \"time\" library to determine if it's less than 50 ms. \n",
            "\n",
            "You can add the functionality to measure the total run-time by importing the \"time\" library and using it to calculate the elapsed time before and after calling the `two_sum` function. Here's how you can modify the code:\n",
            "\n",
            "```python\n",
            "# filename: two_sum.py\n",
            "import time\n",
            "\n",
            "def two_sum(nums, target):\n",
            "    num_dict = {}\n",
            "    for i, num in enumerate(nums):\n",
            "        complement = target - num\n",
            "        if complement in num_dict:\n",
            "            return [num_dict[complement], i]\n",
            "        num_dict[num] = i\n",
            "\n",
            "# Test the function with the given examples and measure the total run-time\n",
            "nums1 = [2, 7, 11, 15]\n",
            "target1 = 9\n",
            "start_time = time.time()\n",
            "print(two_sum(nums1, target1))  # Output: [0, 1]\n",
            "end_time = time.time()\n",
            "print(\"Total run-time:\", (end_time - start_time) * 1000, \"ms\")\n",
            "\n",
            "nums2 = [3, 2, 4]\n",
            "target2 = 6\n",
            "start_time = time.time()\n",
            "print(two_sum(nums2, target2))  # Output: [1, 2]\n",
            "end_time = time.time()\n",
            "print(\"Total run-time:\", (end_time - start_time) * 1000, \"ms\")\n",
            "\n",
            "nums3 = [3, 3]\n",
            "target3 = 6\n",
            "start_time = time.time()\n",
            "print(two_sum(nums3, target3))  # Output: [0, 1]\n",
            "end_time = time.time()\n",
            "print(\"Total run-time:\", (end_time - start_time) * 1000, \"ms\")\n",
            "```\n",
            "\n",
            "Please run this modified code and provide the total run-time for each example. If the total run-time is less than 50 ms for all examples, you can reply with \"TERMINATE\".\n",
            "\n",
            "--------------------------------------------------------------------------------\n",
            "\n",
            ">>>>>>>> EXECUTING CODE BLOCK 0 (inferred language is python)...\n",
            "user_proxy (to assistant):\n",
            "\n",
            "exitcode: 0 (execution succeeded)\n",
            "Code output: \n",
            "[0, 1]\n",
            "Total run-time: 0.01239776611328125 ms\n",
            "[1, 2]\n",
            "Total run-time: 0.00286102294921875 ms\n",
            "[0, 1]\n",
            "Total run-time: 0.0016689300537109375 ms\n",
            "\n",
            "\n",
            "--------------------------------------------------------------------------------\n",
            "assistant (to user_proxy):\n",
            "\n",
            "The Python script ran successfully, and the total run-time for each example is significantly less than 50 ms. Therefore, you can reply with \"TERMINATE\". The algorithm provided an efficient solution with a time complexity of O(n) and a space complexity of O(n).\n",
            "\n",
            "--------------------------------------------------------------------------------\n"
          ]
        }
      ]
    },
    {
      "cell_type": "code",
      "source": [
        "chat_res.cost"
      ],
      "metadata": {
        "colab": {
          "base_uri": "https://localhost:8080/"
        },
        "id": "Jyp_QZgPNS9J",
        "outputId": "454bf621-937a-40ca-fcce-97d662251d2f"
      },
      "execution_count": 23,
      "outputs": [
        {
          "output_type": "execute_result",
          "data": {
            "text/plain": [
              "({'total_cost': 0,\n",
              "  'gpt-3.5-turbo-0125': {'cost': 0,\n",
              "   'prompt_tokens': 14578,\n",
              "   'completion_tokens': 3460,\n",
              "   'total_tokens': 18038}},\n",
              " {'total_cost': 0,\n",
              "  'gpt-3.5-turbo-0125': {'cost': 0,\n",
              "   'prompt_tokens': 8740,\n",
              "   'completion_tokens': 1042,\n",
              "   'total_tokens': 9782}})"
            ]
          },
          "metadata": {},
          "execution_count": 23
        }
      ]
    }
  ],
  "metadata": {
    "front_matter": {
      "description": "Use conversable language learning model agents to solve tasks and provide automatic feedback through a comprehensive example of writing, executing, and debugging Python code to compare stock price changes.",
      "tags": [
        "code generation",
        "debugging"
      ]
    },
    "kernelspec": {
      "display_name": "Python 3",
      "language": "python",
      "name": "python3"
    },
    "language_info": {
      "codemirror_mode": {
        "name": "ipython",
        "version": 3
      },
      "file_extension": ".py",
      "mimetype": "text/x-python",
      "name": "python",
      "nbconvert_exporter": "python",
      "pygments_lexer": "ipython3",
      "version": "3.10.13"
    },
    "vscode": {
      "interpreter": {
        "hash": "949777d72b0d2535278d3dc13498b2535136f6dfe0678499012e853ee9abcab1"
      }
    },
    "colab": {
      "provenance": [],
      "include_colab_link": true
    }
  },
  "nbformat": 4,
  "nbformat_minor": 0
}